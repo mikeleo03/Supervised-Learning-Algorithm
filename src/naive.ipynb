{
 "cells": [
  {
   "cell_type": "markdown",
   "metadata": {},
   "source": [
    "# Algoritma *Naive Bayes*"
   ]
  },
  {
   "cell_type": "markdown",
   "metadata": {},
   "source": [
    "## Mari berkenalan dengan Algoritma Naive Bayes\n",
    "\n",
    "Algoritma Naive Bayes merupakan algoritma *machine learning* yang berbasis pada probabilitas. Algoritma ini umumnya digunakan untuk melakukan klasifikasi. Naive Bayes bekerja dengan menentukan nilai probabilitas sebuah *sample* termasuk suatu label/kategori berdasarkan data yang diberikan. Perhitungan probabilitas ini menggunakan konsep *conditional probability*.\n",
    "\n",
    "*Conditional probability* adalah peluang terjadinya suatu kejadian apabila diketahui kejadian lain sudah berlangsung. Contohnya, peluang mendapatkan kartu ratu jika diketahui kartu tersebut adalah ratu padung sebesar 1/13, bukan 1/52 (jumlah kartu dalam dek lengkap). Peluang terjadinya A jika diketahui B terjadi dinotasikan sebagai P(A|B) dan bisa dihitung dengan rumus \n",
    "$$P(A|B) = \\frac{P(A ∩ B)}{P(B)}$$\n",
    " Rumus tersebut disebut sebagai Aturan Bayes.\n",
    "\n",
    "Naive Bayes menggunakan Aturan Bayes sebagai berikut (misalkan X merupakan data dan Y merupakan label) :\n",
    "$$P(X | Y) = \\frac{P(X ∩ Y)}{P(Y)}$$\n",
    "$$P(X ∩ Y) = P(X | Y) * P(Y)$$\n",
    "$$P(Y | X) = \\frac{P(X ∩ Y)} {P(X)} = \\frac{P(X | Y) * P(Y)}{P(X)}$$\n",
    "\n",
    "Umunya X terdiri dari lebih dari satu atribut data. Aturan Bayes biasa untuk kasus dengan lebih dari satu atribut data adalah : \n",
    "$$P((a,z)∣b)=\\frac{P(a,z,b)}{P(b)}=\\frac{P(z,b) * P(a∣(z,b))}{P(b)}=\\frac{P(b) * P(z∣b) * P(a∣(z,b))}{P(b)}=P(z∣b) * P(a∣(z,b))=P(a∣(z,b)) * P(z∣b)$$\n",
    "\n",
    "Untuk menyederhanakan perhitungan, Naive Bayes mengasumsikan masing-masing atribut data dalam X tidak saling memengaruhi (independen), sehingga perhitungannya berubah menjadi\n",
    "\n",
    "$$P(Y | X1, X2, ...Xn) = \\frac{P(X1 | Y) * P(X2 | Y) * ... * P(Xn | Y) * P(Y)}{P(X1) * P(X2) * ... * P(Xn)}$$\n",
    "\n",
    "P(Y | X1, X2, ...Xn) merupakan probabilitas *sample* termasuk ke dalam label Y, disebut juga *posterior probability*. P(Y) adalah peluang munculnya sebuah kategori Y dalam data, disebut juga *prior probability*. P(X1 | Y) * P(X2 | Y) * ... * P(Xn | Y) adalah perkalian seluruh probabilitas nilai data untuk label Y, disebut juga *probability of likelihood of evidence*. Pembagi merupakan hasil perkalian probabilitas masing-masing data atau disebut juga *probability of evidence*. Tujuan Naive Bayes adalah membandingkan probabilitas setiap kategori/label Y. Karena *probability of evidence* sama untuk setiap nilai Y yang mungkin, pembagi bisa diabaikan. Rumus akhir untuk perhitungan Naive Bayes adalah \n",
    "$$P(Y | X1, X2, ...Xn) = P(X1 | Y) * P(X2 | Y) * ... * P(Xn | Y) * P(Y)$$\n",
    "\n",
    "P(Xi | Y) biasanya berupa perbandingan banyak nilai X tersebut dibanding banyak seluruh nilai atribut yang bersesuaian untuk label Y. Oleh karena itu, Naive Bayes biasanya digunakan untuk klasifikasi dengan data diskrit. Tetapi, Naive Bayes masih bisa digunakan untuk data kontinu. Peluang nilai kontinu bisa dilakukan dengan diskritisasi data (misal membagi menjadi 4 range data) maupun dengan menggunakan fungsi densitas distribusi tertentu. Dalam implementasi kali ini akan digunakan fungsi densitas Gaussian sehingga algoritma menjadi *Gaussian Naive Bayes*. Fungsi Gaussian ini mengasumsikan data berdistribusi normal. Rumus ini digunakan walau data tidak berdistribusi normal karena dari hasil percobaan memiliki hasil yang paling bagus. Rumus densitas distribusi Gaussian adalah \n",
    "$$f(x) = \\frac{1}{σ*\\sqrt{2π}} * e ^ {-0.5 *(\\frac{x-μ}{σ}) ^ 2}$$\n",
    "\n",
    "Secara umum, langkah dalam algoritma Naive Bayes adalah sebagai berikut :\n",
    "1. **Hitung *prior probabilities* :** Hitung frekuensi kemunculan tiap label/kategori.\n",
    "2. **Hitung probabilitas P(Xi|Y) :** Hitung frekuensi kemunculan nilai pada masing-masing atribut untuk tiap label/kategori.\n",
    "3. **Hitung *posterior probability* :** Hitung probabilitas *sample* termasuk sebuah kategori menggunakan rumus Naive Bayes.\n",
    "4. **Pilih label dengan probabilitas tertinggi sebagai hasil prediksi**\n",
    "\n",
    "Algoritma Naive Bayes bersifat parametrik, yang berarti algoritma ini memroses data latih menjadi parameter-parameter yang akan dimasukkan ke dalam sebuah fungsi (dalam hal ini persamaan Naive Bayes dan komponen-komponennya). Kelebihan algoritma Naive Bayes di antaranya adalah mudah diimplementasikan, cepat, *scalable*, dan tidak memerlukan data latih sebanyak algoritma-algoritma lain.\n",
    "\n",
    "Kekurangan algoritma Naive Bayes di antaranya adalah mengasumsikan setiap atribut independen (yang seringkali tidak benar), kurang fleksibel untuk data kompleks, sensitif terhada *outliers*, dan kurang cocok untuk data kontinu."
   ]
  },
  {
   "cell_type": "markdown",
   "metadata": {},
   "source": [
    "## Mengimpor Pustaka"
   ]
  },
  {
   "cell_type": "markdown",
   "metadata": {},
   "source": [
    "Pada bagian ini akan diimpor beberapa pustaka yang akan digunakan untuk menyimulasikan Algoritma *Naive Bayes*."
   ]
  },
  {
   "cell_type": "code",
   "execution_count": 1,
   "metadata": {},
   "outputs": [],
   "source": [
    "import pandas as pd\n",
    "import numpy as np"
   ]
  },
  {
   "cell_type": "markdown",
   "metadata": {},
   "source": [
    "Selain itu, akan dipanggil juga modul Naive Bayes yang telah dibangun *from scratch*"
   ]
  },
  {
   "cell_type": "code",
   "execution_count": 2,
   "metadata": {},
   "outputs": [],
   "source": [
    "from algorithm.naiveBayes import NaiveBayes"
   ]
  },
  {
   "cell_type": "markdown",
   "metadata": {},
   "source": [
    "## Mengimpor *Dataset*"
   ]
  },
  {
   "cell_type": "markdown",
   "metadata": {},
   "source": [
    "Pada bagian ini akan diimpor *dataset* yang sebelumnya telah terbagi menjadi `data_train.csv` dan `data_validation.csv`."
   ]
  },
  {
   "cell_type": "code",
   "execution_count": 3,
   "metadata": {},
   "outputs": [],
   "source": [
    "# Mengambil data train dan data validation\n",
    "df_train = pd.read_csv(\"../data/data_train.csv\")\n",
    "df_validation = pd.read_csv(\"../data/data_validation.csv\")"
   ]
  },
  {
   "cell_type": "markdown",
   "metadata": {},
   "source": [
    "# *Pre-processing* Data"
   ]
  },
  {
   "cell_type": "markdown",
   "metadata": {},
   "source": [
    "Tahap yang dilakukan meliputi pemisahan kolom target hingga melakukan standarisasi terhadap data sebelum dilakukan pemrosesan dengan Algoritma Naive Bayes."
   ]
  },
  {
   "cell_type": "code",
   "execution_count": 4,
   "metadata": {},
   "outputs": [
    {
     "data": {
      "text/html": [
       "<div>\n",
       "<style scoped>\n",
       "    .dataframe tbody tr th:only-of-type {\n",
       "        vertical-align: middle;\n",
       "    }\n",
       "\n",
       "    .dataframe tbody tr th {\n",
       "        vertical-align: top;\n",
       "    }\n",
       "\n",
       "    .dataframe thead th {\n",
       "        text-align: right;\n",
       "    }\n",
       "</style>\n",
       "<table border=\"1\" class=\"dataframe\">\n",
       "  <thead>\n",
       "    <tr style=\"text-align: right;\">\n",
       "      <th></th>\n",
       "      <th>ram</th>\n",
       "      <th>battery_power</th>\n",
       "      <th>px_width</th>\n",
       "      <th>px_height</th>\n",
       "    </tr>\n",
       "  </thead>\n",
       "  <tbody>\n",
       "    <tr>\n",
       "      <th>0</th>\n",
       "      <td>2027</td>\n",
       "      <td>804</td>\n",
       "      <td>818</td>\n",
       "      <td>709</td>\n",
       "    </tr>\n",
       "    <tr>\n",
       "      <th>1</th>\n",
       "      <td>2826</td>\n",
       "      <td>1042</td>\n",
       "      <td>1018</td>\n",
       "      <td>68</td>\n",
       "    </tr>\n",
       "    <tr>\n",
       "      <th>2</th>\n",
       "      <td>2635</td>\n",
       "      <td>1481</td>\n",
       "      <td>522</td>\n",
       "      <td>249</td>\n",
       "    </tr>\n",
       "    <tr>\n",
       "      <th>3</th>\n",
       "      <td>1229</td>\n",
       "      <td>1104</td>\n",
       "      <td>1413</td>\n",
       "      <td>653</td>\n",
       "    </tr>\n",
       "    <tr>\n",
       "      <th>4</th>\n",
       "      <td>565</td>\n",
       "      <td>652</td>\n",
       "      <td>781</td>\n",
       "      <td>464</td>\n",
       "    </tr>\n",
       "    <tr>\n",
       "      <th>...</th>\n",
       "      <td>...</td>\n",
       "      <td>...</td>\n",
       "      <td>...</td>\n",
       "      <td>...</td>\n",
       "    </tr>\n",
       "    <tr>\n",
       "      <th>1395</th>\n",
       "      <td>1211</td>\n",
       "      <td>536</td>\n",
       "      <td>705</td>\n",
       "      <td>547</td>\n",
       "    </tr>\n",
       "    <tr>\n",
       "      <th>1396</th>\n",
       "      <td>2219</td>\n",
       "      <td>1097</td>\n",
       "      <td>1352</td>\n",
       "      <td>1277</td>\n",
       "    </tr>\n",
       "    <tr>\n",
       "      <th>1397</th>\n",
       "      <td>340</td>\n",
       "      <td>1179</td>\n",
       "      <td>1451</td>\n",
       "      <td>85</td>\n",
       "    </tr>\n",
       "    <tr>\n",
       "      <th>1398</th>\n",
       "      <td>3990</td>\n",
       "      <td>719</td>\n",
       "      <td>1727</td>\n",
       "      <td>431</td>\n",
       "    </tr>\n",
       "    <tr>\n",
       "      <th>1399</th>\n",
       "      <td>1790</td>\n",
       "      <td>1439</td>\n",
       "      <td>932</td>\n",
       "      <td>626</td>\n",
       "    </tr>\n",
       "  </tbody>\n",
       "</table>\n",
       "<p>1400 rows × 4 columns</p>\n",
       "</div>"
      ],
      "text/plain": [
       "       ram  battery_power  px_width  px_height\n",
       "0     2027            804       818        709\n",
       "1     2826           1042      1018         68\n",
       "2     2635           1481       522        249\n",
       "3     1229           1104      1413        653\n",
       "4      565            652       781        464\n",
       "...    ...            ...       ...        ...\n",
       "1395  1211            536       705        547\n",
       "1396  2219           1097      1352       1277\n",
       "1397   340           1179      1451         85\n",
       "1398  3990            719      1727        431\n",
       "1399  1790           1439       932        626\n",
       "\n",
       "[1400 rows x 4 columns]"
      ]
     },
     "execution_count": 4,
     "metadata": {},
     "output_type": "execute_result"
    }
   ],
   "source": [
    "# Melakukan pemisahan kolom target\n",
    "# Pada bagian ini, dipilih fitur dengan nilai korelasi diatas 0.1 melalui hasil EDA\n",
    "columns_to_include = [\"ram\", \"battery_power\", \"px_width\", \"px_height\"]\n",
    "x_train = df_train[columns_to_include]\n",
    "y_train = df_train[\"price_range\"]\n",
    "\n",
    "x_test = df_validation[columns_to_include]\n",
    "y_test = df_validation[\"price_range\"]\n",
    "\n",
    "x_train"
   ]
  },
  {
   "cell_type": "code",
   "execution_count": 5,
   "metadata": {},
   "outputs": [
    {
     "data": {
      "text/html": [
       "<div>\n",
       "<style scoped>\n",
       "    .dataframe tbody tr th:only-of-type {\n",
       "        vertical-align: middle;\n",
       "    }\n",
       "\n",
       "    .dataframe tbody tr th {\n",
       "        vertical-align: top;\n",
       "    }\n",
       "\n",
       "    .dataframe thead th {\n",
       "        text-align: right;\n",
       "    }\n",
       "</style>\n",
       "<table border=\"1\" class=\"dataframe\">\n",
       "  <thead>\n",
       "    <tr style=\"text-align: right;\">\n",
       "      <th></th>\n",
       "      <th>ram</th>\n",
       "      <th>battery_power</th>\n",
       "      <th>px_width</th>\n",
       "      <th>px_height</th>\n",
       "    </tr>\n",
       "  </thead>\n",
       "  <tbody>\n",
       "    <tr>\n",
       "      <th>0</th>\n",
       "      <td>0.473276</td>\n",
       "      <td>0.202405</td>\n",
       "      <td>0.212283</td>\n",
       "      <td>0.361735</td>\n",
       "    </tr>\n",
       "    <tr>\n",
       "      <th>1</th>\n",
       "      <td>0.686799</td>\n",
       "      <td>0.361389</td>\n",
       "      <td>0.345794</td>\n",
       "      <td>0.034694</td>\n",
       "    </tr>\n",
       "    <tr>\n",
       "      <th>2</th>\n",
       "      <td>0.635756</td>\n",
       "      <td>0.654643</td>\n",
       "      <td>0.014686</td>\n",
       "      <td>0.127041</td>\n",
       "    </tr>\n",
       "    <tr>\n",
       "      <th>3</th>\n",
       "      <td>0.260021</td>\n",
       "      <td>0.402806</td>\n",
       "      <td>0.609479</td>\n",
       "      <td>0.333163</td>\n",
       "    </tr>\n",
       "    <tr>\n",
       "      <th>4</th>\n",
       "      <td>0.082576</td>\n",
       "      <td>0.100868</td>\n",
       "      <td>0.187583</td>\n",
       "      <td>0.236735</td>\n",
       "    </tr>\n",
       "    <tr>\n",
       "      <th>...</th>\n",
       "      <td>...</td>\n",
       "      <td>...</td>\n",
       "      <td>...</td>\n",
       "      <td>...</td>\n",
       "    </tr>\n",
       "    <tr>\n",
       "      <th>1395</th>\n",
       "      <td>0.255211</td>\n",
       "      <td>0.023380</td>\n",
       "      <td>0.136849</td>\n",
       "      <td>0.279082</td>\n",
       "    </tr>\n",
       "    <tr>\n",
       "      <th>1396</th>\n",
       "      <td>0.524586</td>\n",
       "      <td>0.398130</td>\n",
       "      <td>0.568758</td>\n",
       "      <td>0.651531</td>\n",
       "    </tr>\n",
       "    <tr>\n",
       "      <th>1397</th>\n",
       "      <td>0.022448</td>\n",
       "      <td>0.452906</td>\n",
       "      <td>0.634846</td>\n",
       "      <td>0.043367</td>\n",
       "    </tr>\n",
       "    <tr>\n",
       "      <th>1398</th>\n",
       "      <td>0.997862</td>\n",
       "      <td>0.145625</td>\n",
       "      <td>0.819092</td>\n",
       "      <td>0.219898</td>\n",
       "    </tr>\n",
       "    <tr>\n",
       "      <th>1399</th>\n",
       "      <td>0.409941</td>\n",
       "      <td>0.626587</td>\n",
       "      <td>0.288385</td>\n",
       "      <td>0.319388</td>\n",
       "    </tr>\n",
       "  </tbody>\n",
       "</table>\n",
       "<p>1400 rows × 4 columns</p>\n",
       "</div>"
      ],
      "text/plain": [
       "           ram  battery_power  px_width  px_height\n",
       "0     0.473276       0.202405  0.212283   0.361735\n",
       "1     0.686799       0.361389  0.345794   0.034694\n",
       "2     0.635756       0.654643  0.014686   0.127041\n",
       "3     0.260021       0.402806  0.609479   0.333163\n",
       "4     0.082576       0.100868  0.187583   0.236735\n",
       "...        ...            ...       ...        ...\n",
       "1395  0.255211       0.023380  0.136849   0.279082\n",
       "1396  0.524586       0.398130  0.568758   0.651531\n",
       "1397  0.022448       0.452906  0.634846   0.043367\n",
       "1398  0.997862       0.145625  0.819092   0.219898\n",
       "1399  0.409941       0.626587  0.288385   0.319388\n",
       "\n",
       "[1400 rows x 4 columns]"
      ]
     },
     "execution_count": 5,
     "metadata": {},
     "output_type": "execute_result"
    }
   ],
   "source": [
    "# Dilakukan standarisasi dengan scaler yang dibuat mandiri\n",
    "from utils.scaler import Scaler\n",
    "\n",
    "scaler = Scaler()\n",
    "x_train = scaler.fit_transform(x_train)\n",
    "x_test = scaler.transform(x_test)\n",
    "\n",
    "x_train"
   ]
  },
  {
   "cell_type": "markdown",
   "metadata": {},
   "source": [
    "## Hasil Pemrosesan Algoritma Naive Bayes yang Dibangun"
   ]
  },
  {
   "cell_type": "markdown",
   "metadata": {},
   "source": [
    "Berikut adalah hasil pemrosesan Algoritma Naive Bayes yang dibangun *from scratch*."
   ]
  },
  {
   "cell_type": "code",
   "execution_count": 6,
   "metadata": {},
   "outputs": [],
   "source": [
    "# Gunakan model KNN yang sebelumnya dibangun\n",
    "nb_scratch = NaiveBayes() \n",
    "\n",
    "# Lakukan fit model\n",
    "nb_scratch.fit(x_train, y_train)\n",
    "\n",
    "# Lakukan prediksi dengan data validation\n",
    "y_pred_scratch = nb_scratch.predict(x_test, 1e-9)"
   ]
  },
  {
   "cell_type": "code",
   "execution_count": 7,
   "metadata": {},
   "outputs": [
    {
     "name": "stdout",
     "output_type": "stream",
     "text": [
      "              precision    recall  f1-score   support\n",
      "\n",
      "           0       0.88      0.89      0.88       142\n",
      "           1       0.67      0.65      0.66       144\n",
      "           2       0.68      0.72      0.70       155\n",
      "           3       0.91      0.88      0.89       159\n",
      "\n",
      "    accuracy                           0.79       600\n",
      "   macro avg       0.79      0.78      0.78       600\n",
      "weighted avg       0.79      0.79      0.79       600\n",
      "\n",
      "Akurasi :  78.5 %\n"
     ]
    }
   ],
   "source": [
    "# Pengujian kualitas model dengan metrik\n",
    "from sklearn.metrics import accuracy_score, classification_report\n",
    "\n",
    "print(classification_report(y_test, y_pred_scratch))\n",
    "print(\"Akurasi : \", 100 * np.round(accuracy_score(y_test, y_pred_scratch), 5), \"%\")"
   ]
  },
  {
   "cell_type": "markdown",
   "metadata": {},
   "source": [
    "## Hasil Pemrosesan Algoritma Naive Bayes Pembanding"
   ]
  },
  {
   "cell_type": "markdown",
   "metadata": {},
   "source": [
    "Hasil pemrosesan diatas akan dibandingkan dengan hasil yang diperoleh dari *library* scikit-learn"
   ]
  },
  {
   "cell_type": "code",
   "execution_count": 8,
   "metadata": {},
   "outputs": [],
   "source": [
    "# Pemanggilan model KNN dari scikit-learn\n",
    "from sklearn.naive_bayes import GaussianNB\n",
    "\n",
    "gnb = GaussianNB()\n",
    "y_pred = gnb.fit(x_train, y_train)\n",
    "y_pred_scikit = gnb.predict(x_test)\n"
   ]
  },
  {
   "cell_type": "code",
   "execution_count": 9,
   "metadata": {},
   "outputs": [
    {
     "name": "stdout",
     "output_type": "stream",
     "text": [
      "              precision    recall  f1-score   support\n",
      "\n",
      "           0       0.88      0.89      0.88       142\n",
      "           1       0.67      0.65      0.66       144\n",
      "           2       0.68      0.72      0.70       155\n",
      "           3       0.91      0.88      0.89       159\n",
      "\n",
      "    accuracy                           0.79       600\n",
      "   macro avg       0.79      0.78      0.78       600\n",
      "weighted avg       0.79      0.79      0.79       600\n",
      "\n",
      "Akurasi :  78.5 %\n"
     ]
    }
   ],
   "source": [
    "# Pengujian kualitas model dengan metrik\n",
    "print(classification_report(y_test, y_pred_scikit))\n",
    "print(\"Akurasi : \", 100 * np.round(accuracy_score(y_test, y_pred_scikit), 5), \"%\")"
   ]
  },
  {
   "cell_type": "markdown",
   "metadata": {},
   "source": [
    "## Hasil yang diperoleh"
   ]
  },
  {
   "cell_type": "markdown",
   "metadata": {},
   "source": [
    "Berdasarkan kedua hasil tersebut, diperoleh **hasil yang sama** antara nilai prediksi yang dihasilkan oleh model Naive Bayes yang dibangun *from scratch* dengan model yang dimiliki scikit-learn."
   ]
  },
  {
   "cell_type": "code",
   "execution_count": 10,
   "metadata": {},
   "outputs": [
    {
     "name": "stdout",
     "output_type": "stream",
     "text": [
      "              precision    recall  f1-score   support\n",
      "\n",
      "           0       1.00      1.00      1.00       143\n",
      "           1       1.00      1.00      1.00       140\n",
      "           2       1.00      1.00      1.00       163\n",
      "           3       1.00      1.00      1.00       154\n",
      "\n",
      "    accuracy                           1.00       600\n",
      "   macro avg       1.00      1.00      1.00       600\n",
      "weighted avg       1.00      1.00      1.00       600\n",
      "\n"
     ]
    }
   ],
   "source": [
    "# Pengujian kualitas model dengan metrik\n",
    "print(classification_report(y_pred_scratch, y_pred_scikit))"
   ]
  },
  {
   "cell_type": "markdown",
   "metadata": {},
   "source": [
    "## Apakah sudah merupakan model yang terbaik?"
   ]
  },
  {
   "cell_type": "markdown",
   "metadata": {},
   "source": [
    "Belum tentu! Perhitungan distribusi Gaussian memerlukan nilai variansi masing-masing atribut, namun ada kemungkinan nilai variansi tersebut 0. Nilai variansi 0 akan menyebabkan fungsi distribusi Gaussian tidak bisa digunakan (ada pembagian dengan 0). Apabila jumlah data cukup banyak, variansi setiap data bisa ditambah dengan sebuah nilai yang relatif kecil sehingga tidak ada variansi yang bernilai 0. Jumlah data yang banyak berarti penambahan tersebut tidak akan membuat hasil bias secara signifikan. Oleh karena itu, fungsi *Gaussian Naive Bayes* dalam *library* scikit-learn memiliki parameter var_smoothing. Nilai var_smoothing ini akan dikali dengan variansi maksimum dari atribut data training untuk mendapat epsilon. Nilai epsilon ini yang kemudian ditambahkan ke variansi masing-masing atribut data.\n",
    "\n",
    "Selain mencegah nilai 0, *variance smoothing* ini bisa meningkatkan akurasi hasil algoritma *Gaussian Naive Bayes* jika nilainya optimal. Oleh karena itu, diperlukan nilai var_smoothing yang optimal."
   ]
  },
  {
   "cell_type": "markdown",
   "metadata": {},
   "source": [
    "## Memperkenalkan *Cross-validation*"
   ]
  },
  {
   "cell_type": "markdown",
   "metadata": {},
   "source": [
    "Menemukan nilai terbaik untuk hyperparameter 'var_smoothing' di *Gaussian Naive Bayes* melibatkan proses yang disebut *hyperparameter tuning*. Pendekatan *hyperparameter tuning* ini memang umumnya tidak digunakan dalam algoritma *Naive Bayes* karena *hyperparameter* yang diperlukan terbatas. Namun, untuk *Gaussian Naive Bayes* terdapat 'var_smoothing' yang bisa dicari nilai optimalnya. Salah satu pendekatan yang umum untuk *hyperparameter tuning* adalah dengan menggunakan *cross-validation*.\n",
    "Berikut adalah detail prosedurnya\n",
    "1. **Pemilihan Jumlah Subset (*Fold*)**<br/> \n",
    "*Dataset* dibagi menjadi beberapa subset yang disebut \"fold.\" Misalnya, dalam *5-fold cross-validation*, *dataset* dibagi menjadi 5 bagian. Proses pelatihan dan pengujian akan dilakukan sebanyak 5 kali, di mana setiap *fold* digunakan sebagai subset pengujian satu kali, dan sisanya digunakan sebagai subset pelatihan.<br/>\n",
    "2. **Pelatihan dan Pengujian Berulang**<br/> \n",
    "Model pembelajaran mesin dilatih pada subset pelatihan dan diuji pada subset pengujian untuk setiap iterasi *cross-validation*. Proses ini dilakukan sebanyak jumlah *fold* yang telah ditentukan. <br/>\n",
    "3. **Perhitungan Metrik Kinerja**<br/> \n",
    "Metrik kinerja seperti akurasi, presisi, *recall*, atau *F1-score* dihitung untuk setiap iterasi *cross-validation*. Metrik ini memberikan gambaran tentang seberapa baik model berkinerja pada berbagai subset data."
   ]
  },
  {
   "cell_type": "markdown",
   "metadata": {},
   "source": [
    "Berikut adalah prosedur yang dilakukan untuk melakukan *cross-validation* dengan menggunakan *library* milik scikit-learn. Secara umum proses yang dilakukan adalah *Grid Search* dengan rentang nilai yang terdistribusi merata dalam *log space* antara 0 sampai -9, dengan jumlah 400 nilai."
   ]
  },
  {
   "cell_type": "code",
   "execution_count": 11,
   "metadata": {},
   "outputs": [
    {
     "name": "stdout",
     "output_type": "stream",
     "text": [
      "Fitting 10 folds for each of 400 candidates, totalling 4000 fits\n"
     ]
    }
   ],
   "source": [
    "# Impor library GridSearchCV milik sklearn\n",
    "from sklearn.model_selection import GridSearchCV\n",
    "\n",
    "# Pengaturan parameter pencarian menggunakan gridSearch\n",
    "param_grid_nb = {\n",
    "    'var_smoothing': np.logspace(0,-9, num=400)\n",
    "}\n",
    "\n",
    "# Melakukan gridSearch dengan cross-validation untuk 10 fold\n",
    "grid_search = GridSearchCV(estimator=GaussianNB(), param_grid=param_grid_nb, verbose=1, cv=10, n_jobs=-1)\n",
    "grid_search.fit(x_train, y_train)\n",
    "\n",
    "# Mendapatkan parameter dan model Naive Bayes terbaik\n",
    "best_param = grid_search.best_params_['var_smoothing']\n",
    "best_nb = grid_search.best_estimator_"
   ]
  },
  {
   "cell_type": "markdown",
   "metadata": {},
   "source": [
    "Setelah mendapatkan nilai var_smoothing dan model terbaik, mari kembali lakukan pengujian menggunakan Algoritma *Naive Bayes* yang telah dibangun sebelumnya"
   ]
  },
  {
   "cell_type": "code",
   "execution_count": 12,
   "metadata": {},
   "outputs": [],
   "source": [
    "# Gunakan model Naive Bayes terbaik\n",
    "y_pred = best_nb.predict(x_test)"
   ]
  },
  {
   "cell_type": "code",
   "execution_count": 13,
   "metadata": {},
   "outputs": [
    {
     "name": "stdout",
     "output_type": "stream",
     "text": [
      "              precision    recall  f1-score   support\n",
      "\n",
      "           0       0.93      0.99      0.96       142\n",
      "           1       0.73      0.69      0.71       144\n",
      "           2       0.71      0.73      0.72       155\n",
      "           3       0.95      0.91      0.93       159\n",
      "\n",
      "    accuracy                           0.83       600\n",
      "   macro avg       0.83      0.83      0.83       600\n",
      "weighted avg       0.83      0.83      0.83       600\n",
      "\n",
      "Akurasi :  83.167 %\n",
      "Nilai hyperparameter terbaik: {'var_smoothing': 0.5948892077934336}\n"
     ]
    }
   ],
   "source": [
    "# Pengujian kualitas model dengan metrik\n",
    "print(classification_report(y_test, y_pred))\n",
    "print(\"Akurasi : \", 100 * np.round(accuracy_score(y_test, y_pred), 5), \"%\")\n",
    "print(\"Nilai hyperparameter terbaik:\", grid_search.best_params_)"
   ]
  },
  {
   "cell_type": "code",
   "execution_count": 14,
   "metadata": {},
   "outputs": [],
   "source": [
    "# Gunakan model Naive Bayes from scratch yang sebelumnya dibangun\n",
    "nb_scratch = NaiveBayes() \n",
    "\n",
    "# Lakukan fit model\n",
    "nb_scratch.fit(x_train, y_train)\n",
    "\n",
    "# Lakukan prediksi dengan data validation, menggunakan var_smoothing terbaik yang ditemukan\n",
    "y_pred_scratch = nb_scratch.predict(x_test, best_param)"
   ]
  },
  {
   "cell_type": "code",
   "execution_count": 15,
   "metadata": {},
   "outputs": [
    {
     "name": "stdout",
     "output_type": "stream",
     "text": [
      "              precision    recall  f1-score   support\n",
      "\n",
      "           0       0.93      0.99      0.96       142\n",
      "           1       0.73      0.69      0.71       144\n",
      "           2       0.71      0.73      0.72       155\n",
      "           3       0.95      0.91      0.93       159\n",
      "\n",
      "    accuracy                           0.83       600\n",
      "   macro avg       0.83      0.83      0.83       600\n",
      "weighted avg       0.83      0.83      0.83       600\n",
      "\n",
      "Akurasi :  83.167 %\n",
      "Nilai hyperparameter terbaik: {'var_smoothing': 0.5948892077934336}\n"
     ]
    }
   ],
   "source": [
    "# Pengujian kualitas model dengan metrik\n",
    "from sklearn.metrics import accuracy_score, classification_report\n",
    "\n",
    "print(classification_report(y_test, y_pred_scratch))\n",
    "print(\"Akurasi : \", 100 * np.round(accuracy_score(y_test, y_pred_scratch), 5), \"%\")\n",
    "print(\"Nilai hyperparameter terbaik:\", grid_search.best_params_)"
   ]
  },
  {
   "cell_type": "markdown",
   "metadata": {},
   "source": [
    "Terlihat bahwa dengan melakukan cross-validation pada rentang nilai var_smoothing tersebut, diperoleh nilai var_smoothing terbaik adalah 0.5948892077934336 dengan akurasi 83.167%. Angka ini meningkat dari akurasi sebelumnya!"
   ]
  },
  {
   "cell_type": "markdown",
   "metadata": {},
   "source": [
    "## Penyimpanan dan *Load* Model"
   ]
  },
  {
   "cell_type": "markdown",
   "metadata": {},
   "source": [
    "Agar model dapat digunakan kembali, maka model harus dapat disimpan dan di-*load*. Berikut adalah implementasi penyimpanan model yang dilakukan menggunakan *library* pickle."
   ]
  },
  {
   "cell_type": "code",
   "execution_count": 16,
   "metadata": {},
   "outputs": [],
   "source": [
    "import pickle\n",
    "\n",
    "# Menyimpan model dalam pkl\n",
    "model_pkl_file = \"models/naive_bayes_model.pkl\"  \n",
    "\n",
    "with open(model_pkl_file, 'wb') as file:  \n",
    "    pickle.dump(nb_scratch, file)"
   ]
  },
  {
   "cell_type": "markdown",
   "metadata": {},
   "source": [
    "Untuk membuktikan bahwa model berhasil tersimpan, berikut adalah pembuktian pemanggilan kembali hasil prediksi model yang disimpan"
   ]
  },
  {
   "cell_type": "code",
   "execution_count": 17,
   "metadata": {},
   "outputs": [
    {
     "name": "stdout",
     "output_type": "stream",
     "text": [
      "              precision    recall  f1-score   support\n",
      "\n",
      "           0       0.93      0.99      0.96       142\n",
      "           1       0.73      0.69      0.71       144\n",
      "           2       0.71      0.73      0.72       155\n",
      "           3       0.95      0.91      0.93       159\n",
      "\n",
      "    accuracy                           0.83       600\n",
      "   macro avg       0.83      0.83      0.83       600\n",
      "weighted avg       0.83      0.83      0.83       600\n",
      "\n"
     ]
    }
   ],
   "source": [
    "# Load kembali model dari pkl\n",
    "with open(model_pkl_file, 'rb') as file:  \n",
    "    model = pickle.load(file)\n",
    "\n",
    "# Melakukan prediksi dengan model tersebut\n",
    "y_pickle = model.predict(x_test, best_param)\n",
    "\n",
    "# Menguji hasil akurasi model\n",
    "print(classification_report(y_test, y_pickle)) "
   ]
  },
  {
   "cell_type": "markdown",
   "metadata": {},
   "source": [
    "Terbukti bahwa model pkl yang disimpan berhasil untuk digunakan kembali."
   ]
  },
  {
   "cell_type": "markdown",
   "metadata": {},
   "source": [
    "## [Bonus] Submisi Kaggle"
   ]
  },
  {
   "cell_type": "markdown",
   "metadata": {},
   "source": [
    "Bagian ini dikhususkan untuk pemrosesan data dan penggunaan model yang dibuat sebagai dasar membuat submisi pada Kaggle."
   ]
  },
  {
   "cell_type": "code",
   "execution_count": 18,
   "metadata": {},
   "outputs": [],
   "source": [
    "# Pengambilan data keseluruhan dan pemrosesan awal\n",
    "df_traink = pd.read_csv(\"../data/full_data.csv\")\n",
    "df_validationk = pd.read_csv(\"../data/data_validation.csv\")"
   ]
  },
  {
   "cell_type": "code",
   "execution_count": 19,
   "metadata": {},
   "outputs": [
    {
     "data": {
      "text/html": [
       "<div>\n",
       "<style scoped>\n",
       "    .dataframe tbody tr th:only-of-type {\n",
       "        vertical-align: middle;\n",
       "    }\n",
       "\n",
       "    .dataframe tbody tr th {\n",
       "        vertical-align: top;\n",
       "    }\n",
       "\n",
       "    .dataframe thead th {\n",
       "        text-align: right;\n",
       "    }\n",
       "</style>\n",
       "<table border=\"1\" class=\"dataframe\">\n",
       "  <thead>\n",
       "    <tr style=\"text-align: right;\">\n",
       "      <th></th>\n",
       "      <th>ram</th>\n",
       "      <th>battery_power</th>\n",
       "      <th>px_width</th>\n",
       "      <th>px_height</th>\n",
       "    </tr>\n",
       "  </thead>\n",
       "  <tbody>\n",
       "    <tr>\n",
       "      <th>0</th>\n",
       "      <td>2027</td>\n",
       "      <td>804</td>\n",
       "      <td>818</td>\n",
       "      <td>709</td>\n",
       "    </tr>\n",
       "    <tr>\n",
       "      <th>1</th>\n",
       "      <td>2826</td>\n",
       "      <td>1042</td>\n",
       "      <td>1018</td>\n",
       "      <td>68</td>\n",
       "    </tr>\n",
       "    <tr>\n",
       "      <th>2</th>\n",
       "      <td>2635</td>\n",
       "      <td>1481</td>\n",
       "      <td>522</td>\n",
       "      <td>249</td>\n",
       "    </tr>\n",
       "    <tr>\n",
       "      <th>3</th>\n",
       "      <td>1229</td>\n",
       "      <td>1104</td>\n",
       "      <td>1413</td>\n",
       "      <td>653</td>\n",
       "    </tr>\n",
       "    <tr>\n",
       "      <th>4</th>\n",
       "      <td>565</td>\n",
       "      <td>652</td>\n",
       "      <td>781</td>\n",
       "      <td>464</td>\n",
       "    </tr>\n",
       "    <tr>\n",
       "      <th>...</th>\n",
       "      <td>...</td>\n",
       "      <td>...</td>\n",
       "      <td>...</td>\n",
       "      <td>...</td>\n",
       "    </tr>\n",
       "    <tr>\n",
       "      <th>1995</th>\n",
       "      <td>1620</td>\n",
       "      <td>1547</td>\n",
       "      <td>957</td>\n",
       "      <td>347</td>\n",
       "    </tr>\n",
       "    <tr>\n",
       "      <th>1996</th>\n",
       "      <td>3579</td>\n",
       "      <td>1882</td>\n",
       "      <td>743</td>\n",
       "      <td>4</td>\n",
       "    </tr>\n",
       "    <tr>\n",
       "      <th>1997</th>\n",
       "      <td>1180</td>\n",
       "      <td>674</td>\n",
       "      <td>1809</td>\n",
       "      <td>576</td>\n",
       "    </tr>\n",
       "    <tr>\n",
       "      <th>1998</th>\n",
       "      <td>2032</td>\n",
       "      <td>1965</td>\n",
       "      <td>1965</td>\n",
       "      <td>915</td>\n",
       "    </tr>\n",
       "    <tr>\n",
       "      <th>1999</th>\n",
       "      <td>3919</td>\n",
       "      <td>510</td>\n",
       "      <td>754</td>\n",
       "      <td>483</td>\n",
       "    </tr>\n",
       "  </tbody>\n",
       "</table>\n",
       "<p>2000 rows × 4 columns</p>\n",
       "</div>"
      ],
      "text/plain": [
       "       ram  battery_power  px_width  px_height\n",
       "0     2027            804       818        709\n",
       "1     2826           1042      1018         68\n",
       "2     2635           1481       522        249\n",
       "3     1229           1104      1413        653\n",
       "4      565            652       781        464\n",
       "...    ...            ...       ...        ...\n",
       "1995  1620           1547       957        347\n",
       "1996  3579           1882       743          4\n",
       "1997  1180            674      1809        576\n",
       "1998  2032           1965      1965        915\n",
       "1999  3919            510       754        483\n",
       "\n",
       "[2000 rows x 4 columns]"
      ]
     },
     "execution_count": 19,
     "metadata": {},
     "output_type": "execute_result"
    }
   ],
   "source": [
    "# Melakukan pemisahan kolom target\n",
    "# Pada bagian ini, dipilih fitur dengan nilai korelasi diatas 0.1 melalui hasil EDA\n",
    "x_traink = df_traink[columns_to_include]\n",
    "y_traink = df_traink[\"price_range\"]\n",
    "\n",
    "x_testk = df_validationk[columns_to_include]\n",
    "y_testk = df_validationk[\"price_range\"]\n",
    "\n",
    "x_traink"
   ]
  },
  {
   "cell_type": "code",
   "execution_count": 20,
   "metadata": {},
   "outputs": [
    {
     "data": {
      "text/html": [
       "<div>\n",
       "<style scoped>\n",
       "    .dataframe tbody tr th:only-of-type {\n",
       "        vertical-align: middle;\n",
       "    }\n",
       "\n",
       "    .dataframe tbody tr th {\n",
       "        vertical-align: top;\n",
       "    }\n",
       "\n",
       "    .dataframe thead th {\n",
       "        text-align: right;\n",
       "    }\n",
       "</style>\n",
       "<table border=\"1\" class=\"dataframe\">\n",
       "  <thead>\n",
       "    <tr style=\"text-align: right;\">\n",
       "      <th></th>\n",
       "      <th>ram</th>\n",
       "      <th>battery_power</th>\n",
       "      <th>px_width</th>\n",
       "      <th>px_height</th>\n",
       "    </tr>\n",
       "  </thead>\n",
       "  <tbody>\n",
       "    <tr>\n",
       "      <th>0</th>\n",
       "      <td>0.473276</td>\n",
       "      <td>0.202405</td>\n",
       "      <td>0.212283</td>\n",
       "      <td>0.361735</td>\n",
       "    </tr>\n",
       "    <tr>\n",
       "      <th>1</th>\n",
       "      <td>0.686799</td>\n",
       "      <td>0.361389</td>\n",
       "      <td>0.345794</td>\n",
       "      <td>0.034694</td>\n",
       "    </tr>\n",
       "    <tr>\n",
       "      <th>2</th>\n",
       "      <td>0.635756</td>\n",
       "      <td>0.654643</td>\n",
       "      <td>0.014686</td>\n",
       "      <td>0.127041</td>\n",
       "    </tr>\n",
       "    <tr>\n",
       "      <th>3</th>\n",
       "      <td>0.260021</td>\n",
       "      <td>0.402806</td>\n",
       "      <td>0.609479</td>\n",
       "      <td>0.333163</td>\n",
       "    </tr>\n",
       "    <tr>\n",
       "      <th>4</th>\n",
       "      <td>0.082576</td>\n",
       "      <td>0.100868</td>\n",
       "      <td>0.187583</td>\n",
       "      <td>0.236735</td>\n",
       "    </tr>\n",
       "    <tr>\n",
       "      <th>...</th>\n",
       "      <td>...</td>\n",
       "      <td>...</td>\n",
       "      <td>...</td>\n",
       "      <td>...</td>\n",
       "    </tr>\n",
       "    <tr>\n",
       "      <th>1995</th>\n",
       "      <td>0.364511</td>\n",
       "      <td>0.698731</td>\n",
       "      <td>0.305073</td>\n",
       "      <td>0.177041</td>\n",
       "    </tr>\n",
       "    <tr>\n",
       "      <th>1996</th>\n",
       "      <td>0.888028</td>\n",
       "      <td>0.922512</td>\n",
       "      <td>0.162216</td>\n",
       "      <td>0.002041</td>\n",
       "    </tr>\n",
       "    <tr>\n",
       "      <th>1997</th>\n",
       "      <td>0.246927</td>\n",
       "      <td>0.115564</td>\n",
       "      <td>0.873832</td>\n",
       "      <td>0.293878</td>\n",
       "    </tr>\n",
       "    <tr>\n",
       "      <th>1998</th>\n",
       "      <td>0.474613</td>\n",
       "      <td>0.977956</td>\n",
       "      <td>0.977971</td>\n",
       "      <td>0.466837</td>\n",
       "    </tr>\n",
       "    <tr>\n",
       "      <th>1999</th>\n",
       "      <td>0.978888</td>\n",
       "      <td>0.006012</td>\n",
       "      <td>0.169559</td>\n",
       "      <td>0.246429</td>\n",
       "    </tr>\n",
       "  </tbody>\n",
       "</table>\n",
       "<p>2000 rows × 4 columns</p>\n",
       "</div>"
      ],
      "text/plain": [
       "           ram  battery_power  px_width  px_height\n",
       "0     0.473276       0.202405  0.212283   0.361735\n",
       "1     0.686799       0.361389  0.345794   0.034694\n",
       "2     0.635756       0.654643  0.014686   0.127041\n",
       "3     0.260021       0.402806  0.609479   0.333163\n",
       "4     0.082576       0.100868  0.187583   0.236735\n",
       "...        ...            ...       ...        ...\n",
       "1995  0.364511       0.698731  0.305073   0.177041\n",
       "1996  0.888028       0.922512  0.162216   0.002041\n",
       "1997  0.246927       0.115564  0.873832   0.293878\n",
       "1998  0.474613       0.977956  0.977971   0.466837\n",
       "1999  0.978888       0.006012  0.169559   0.246429\n",
       "\n",
       "[2000 rows x 4 columns]"
      ]
     },
     "execution_count": 20,
     "metadata": {},
     "output_type": "execute_result"
    }
   ],
   "source": [
    "# Dilakukan standarisasi dengan scaler yang dibuat mandiri\n",
    "from utils.scaler import Scaler\n",
    "\n",
    "scaler = Scaler()\n",
    "x_traink = scaler.fit_transform(x_traink)\n",
    "x_testk = scaler.transform(x_testk)\n",
    "\n",
    "x_traink"
   ]
  },
  {
   "cell_type": "code",
   "execution_count": 21,
   "metadata": {},
   "outputs": [
    {
     "data": {
      "text/html": [
       "<div>\n",
       "<style scoped>\n",
       "    .dataframe tbody tr th:only-of-type {\n",
       "        vertical-align: middle;\n",
       "    }\n",
       "\n",
       "    .dataframe tbody tr th {\n",
       "        vertical-align: top;\n",
       "    }\n",
       "\n",
       "    .dataframe thead th {\n",
       "        text-align: right;\n",
       "    }\n",
       "</style>\n",
       "<table border=\"1\" class=\"dataframe\">\n",
       "  <thead>\n",
       "    <tr style=\"text-align: right;\">\n",
       "      <th></th>\n",
       "      <th>ram</th>\n",
       "      <th>battery_power</th>\n",
       "      <th>px_width</th>\n",
       "      <th>px_height</th>\n",
       "    </tr>\n",
       "  </thead>\n",
       "  <tbody>\n",
       "    <tr>\n",
       "      <th>0</th>\n",
       "      <td>0.197690</td>\n",
       "      <td>0.384461</td>\n",
       "      <td>0.543434</td>\n",
       "      <td>0.064990</td>\n",
       "    </tr>\n",
       "    <tr>\n",
       "      <th>1</th>\n",
       "      <td>0.827558</td>\n",
       "      <td>0.541192</td>\n",
       "      <td>0.794613</td>\n",
       "      <td>0.784067</td>\n",
       "    </tr>\n",
       "    <tr>\n",
       "      <th>2</th>\n",
       "      <td>0.952995</td>\n",
       "      <td>0.946417</td>\n",
       "      <td>0.839731</td>\n",
       "      <td>0.137841</td>\n",
       "    </tr>\n",
       "    <tr>\n",
       "      <th>3</th>\n",
       "      <td>0.782971</td>\n",
       "      <td>0.056932</td>\n",
       "      <td>0.057912</td>\n",
       "      <td>0.065514</td>\n",
       "    </tr>\n",
       "    <tr>\n",
       "      <th>4</th>\n",
       "      <td>0.117916</td>\n",
       "      <td>0.685867</td>\n",
       "      <td>0.740067</td>\n",
       "      <td>0.077044</td>\n",
       "    </tr>\n",
       "    <tr>\n",
       "      <th>...</th>\n",
       "      <td>...</td>\n",
       "      <td>...</td>\n",
       "      <td>...</td>\n",
       "      <td>...</td>\n",
       "    </tr>\n",
       "    <tr>\n",
       "      <th>1995</th>\n",
       "      <td>0.370132</td>\n",
       "      <td>0.896852</td>\n",
       "      <td>0.789226</td>\n",
       "      <td>0.685535</td>\n",
       "    </tr>\n",
       "    <tr>\n",
       "      <th>1996</th>\n",
       "      <td>0.333602</td>\n",
       "      <td>0.376423</td>\n",
       "      <td>0.141414</td>\n",
       "      <td>0.053459</td>\n",
       "    </tr>\n",
       "    <tr>\n",
       "      <th>1997</th>\n",
       "      <td>0.950846</td>\n",
       "      <td>0.633624</td>\n",
       "      <td>0.097643</td>\n",
       "      <td>0.179245</td>\n",
       "    </tr>\n",
       "    <tr>\n",
       "      <th>1998</th>\n",
       "      <td>0.165995</td>\n",
       "      <td>0.390489</td>\n",
       "      <td>0.268013</td>\n",
       "      <td>0.061845</td>\n",
       "    </tr>\n",
       "    <tr>\n",
       "      <th>1999</th>\n",
       "      <td>0.929089</td>\n",
       "      <td>0.795044</td>\n",
       "      <td>0.562290</td>\n",
       "      <td>0.128407</td>\n",
       "    </tr>\n",
       "  </tbody>\n",
       "</table>\n",
       "<p>2000 rows × 4 columns</p>\n",
       "</div>"
      ],
      "text/plain": [
       "           ram  battery_power  px_width  px_height\n",
       "0     0.197690       0.384461  0.543434   0.064990\n",
       "1     0.827558       0.541192  0.794613   0.784067\n",
       "2     0.952995       0.946417  0.839731   0.137841\n",
       "3     0.782971       0.056932  0.057912   0.065514\n",
       "4     0.117916       0.685867  0.740067   0.077044\n",
       "...        ...            ...       ...        ...\n",
       "1995  0.370132       0.896852  0.789226   0.685535\n",
       "1996  0.333602       0.376423  0.141414   0.053459\n",
       "1997  0.950846       0.633624  0.097643   0.179245\n",
       "1998  0.165995       0.390489  0.268013   0.061845\n",
       "1999  0.929089       0.795044  0.562290   0.128407\n",
       "\n",
       "[2000 rows x 4 columns]"
      ]
     },
     "execution_count": 21,
     "metadata": {},
     "output_type": "execute_result"
    }
   ],
   "source": [
    "# Penggunaan hasil pada data test\n",
    "test_data = pd.read_csv('../data/test.csv')\n",
    "features = test_data[columns_to_include]\n",
    "\n",
    "# Proses normalisasi data\n",
    "scaler_final = Scaler()\n",
    "feature_test = scaler.fit_transform(features)\n",
    "\n",
    "feature_test"
   ]
  },
  {
   "cell_type": "code",
   "execution_count": 22,
   "metadata": {},
   "outputs": [],
   "source": [
    "# Gunakan model terbaik yang sebelumnya dibangun\n",
    "nb_kaggle = NaiveBayes()\n",
    "\n",
    "# Lakukan fit model\n",
    "nb_kaggle.fit(x_traink, y_traink)\n",
    "\n",
    "# Lakukan prediksi dengan data validation\n",
    "predictions = nb_kaggle.predict(feature_test, best_param)\n",
    "\n",
    "# Membuat dataframe hasil\n",
    "result_df = pd.DataFrame({'id': test_data['id'], 'price_range': predictions})\n",
    "\n",
    "# Menyimpan dataframe dalam csv\n",
    "result_df.to_csv('../result/predictions-naive-bayes.csv', index=False)"
   ]
  }
 ],
 "metadata": {
  "kernelspec": {
   "display_name": "Python 3",
   "language": "python",
   "name": "python3"
  },
  "language_info": {
   "codemirror_mode": {
    "name": "ipython",
    "version": 3
   },
   "file_extension": ".py",
   "mimetype": "text/x-python",
   "name": "python",
   "nbconvert_exporter": "python",
   "pygments_lexer": "ipython3",
   "version": "3.10.1"
  }
 },
 "nbformat": 4,
 "nbformat_minor": 2
}
