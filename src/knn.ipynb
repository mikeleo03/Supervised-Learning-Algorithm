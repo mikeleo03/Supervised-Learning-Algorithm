{
 "cells": [
  {
   "cell_type": "markdown",
   "metadata": {},
   "source": [
    "# Algoritma *K-Nearest Neighbor*"
   ]
  },
  {
   "cell_type": "markdown",
   "metadata": {},
   "source": [
    "## Mari berkenalan dengan Algoritma KNN\n",
    "\n",
    "insert penjelasan here..."
   ]
  },
  {
   "cell_type": "markdown",
   "metadata": {},
   "source": [
    "## Mengimpor Pustaka"
   ]
  },
  {
   "cell_type": "markdown",
   "metadata": {},
   "source": [
    "Pada bagian ini akan diimpor beberapa pustaka yang akan digunakan untuk menyimulasikan Algoritma *K-Nearest Neighbor*."
   ]
  },
  {
   "cell_type": "code",
   "execution_count": 1,
   "metadata": {},
   "outputs": [],
   "source": [
    "import pandas as pd\n",
    "import numpy as np"
   ]
  },
  {
   "cell_type": "markdown",
   "metadata": {},
   "source": [
    "Selain itu, akan dipanggil juga modul KNN yang telah dibangun *from scratch*"
   ]
  },
  {
   "cell_type": "code",
   "execution_count": 2,
   "metadata": {},
   "outputs": [],
   "source": [
    "from algorithm.knn import KNNAlgorithm"
   ]
  },
  {
   "cell_type": "markdown",
   "metadata": {},
   "source": [
    "## Mengimpor *Dataset*"
   ]
  },
  {
   "cell_type": "markdown",
   "metadata": {},
   "source": [
    "Pada bagian ini akan diimpor *dataset* yang sebelumnya telah terbagi menjadi `data_train.csv` dan `data_validation.csv`."
   ]
  },
  {
   "cell_type": "code",
   "execution_count": 3,
   "metadata": {},
   "outputs": [],
   "source": [
    "# Mengambil data train dan data validation\n",
    "df_train = pd.read_csv(\"../data/data_train.csv\")\n",
    "df_validation = pd.read_csv(\"../data/data_validation.csv\")"
   ]
  },
  {
   "cell_type": "markdown",
   "metadata": {},
   "source": [
    "# *Pre-processing* Data"
   ]
  },
  {
   "cell_type": "markdown",
   "metadata": {},
   "source": [
    "Tahap yang dilakukan meliputi pemisahan kolom target hingga melakukan standarisasi terhadap data sebelum dilakukan pemrosesan dengan Algoritma KNN."
   ]
  },
  {
   "cell_type": "code",
   "execution_count": 4,
   "metadata": {},
   "outputs": [],
   "source": [
    "# Melakukan pemisahan kolom target\n",
    "x_train = df_train.drop([\"price_range\"], axis=1)\n",
    "y_train = df_train[\"price_range\"]\n",
    "\n",
    "x_test = df_validation.drop([\"price_range\"], axis=1)\n",
    "y_test = df_validation[\"price_range\"]"
   ]
  },
  {
   "cell_type": "code",
   "execution_count": 5,
   "metadata": {},
   "outputs": [],
   "source": [
    "# Standarisasi data\n",
    "from sklearn.preprocessing import StandardScaler\n",
    "\n",
    "scaler = StandardScaler()\n",
    "x_train = scaler.fit_transform(x_train)\n",
    "x_test = scaler.transform(x_test)"
   ]
  },
  {
   "cell_type": "markdown",
   "metadata": {},
   "source": [
    "## Hasil Pemrosesan Algoritma KNN yang Dibangun"
   ]
  },
  {
   "cell_type": "markdown",
   "metadata": {},
   "source": [
    "Berikut adalah hasil pemrosesan Algoritma KNN yang dibangun *from scratch*."
   ]
  },
  {
   "cell_type": "code",
   "execution_count": 6,
   "metadata": {},
   "outputs": [],
   "source": [
    "# Gunakan model KNN yang sebelumnya dibangun\n",
    "knn_scratch = KNNAlgorithm(5)       # Gunakan nilai k = 5 sebagai nilai awal\n",
    "\n",
    "# Lakukan fit model\n",
    "knn_scratch.fit(x_train, y_train)\n",
    "\n",
    "# Lakukan prediksi dengan data validation\n",
    "y_pred_scratch = knn_scratch.predict(x_test)"
   ]
  },
  {
   "cell_type": "code",
   "execution_count": 7,
   "metadata": {},
   "outputs": [
    {
     "name": "stdout",
     "output_type": "stream",
     "text": [
      "              precision    recall  f1-score   support\n",
      "\n",
      "           0       0.62      0.78      0.69       142\n",
      "           1       0.38      0.42      0.40       144\n",
      "           2       0.37      0.35      0.36       155\n",
      "           3       0.74      0.52      0.61       159\n",
      "\n",
      "    accuracy                           0.51       600\n",
      "   macro avg       0.52      0.52      0.51       600\n",
      "weighted avg       0.53      0.51      0.51       600\n",
      "\n",
      "Akurasi :  51.333 %\n"
     ]
    }
   ],
   "source": [
    "# Pengujian kualitas model dengan metrik\n",
    "from sklearn.metrics import accuracy_score, classification_report\n",
    "\n",
    "print(classification_report(y_test, y_pred_scratch))\n",
    "print(\"Akurasi : \", 100 * np.round(accuracy_score(y_test, y_pred_scratch), 5), \"%\")"
   ]
  },
  {
   "cell_type": "markdown",
   "metadata": {},
   "source": [
    "## Hasil Pemrosesan Algoritma KNN Pembanding"
   ]
  },
  {
   "cell_type": "markdown",
   "metadata": {},
   "source": [
    "Hasil pemrosesan diatas akan dibandingkan dengan hasil yang diperoleh dari *library* scikit-learn"
   ]
  },
  {
   "cell_type": "code",
   "execution_count": 8,
   "metadata": {},
   "outputs": [],
   "source": [
    "# Pemanggilan model KNN dari scikit-learn\n",
    "from sklearn.neighbors import KNeighborsClassifier\n",
    "\n",
    "knn_scikit = KNeighborsClassifier(n_neighbors=5)        # Dengan menggunakan nilai k yang sama\n",
    "knn_scikit.fit(x_train, y_train)\n",
    "y_pred_scikit = knn_scikit.predict(x_test)"
   ]
  },
  {
   "cell_type": "code",
   "execution_count": 9,
   "metadata": {},
   "outputs": [
    {
     "name": "stdout",
     "output_type": "stream",
     "text": [
      "              precision    recall  f1-score   support\n",
      "\n",
      "           0       0.62      0.78      0.69       142\n",
      "           1       0.38      0.42      0.40       144\n",
      "           2       0.37      0.35      0.36       155\n",
      "           3       0.74      0.52      0.61       159\n",
      "\n",
      "    accuracy                           0.51       600\n",
      "   macro avg       0.52      0.52      0.51       600\n",
      "weighted avg       0.53      0.51      0.51       600\n",
      "\n",
      "Akurasi :  51.333 %\n"
     ]
    }
   ],
   "source": [
    "# Pengujian kualitas model dengan metrik\n",
    "print(classification_report(y_test, y_pred_scikit))\n",
    "print(\"Akurasi : \", 100 * np.round(accuracy_score(y_test, y_pred_scikit), 5), \"%\")"
   ]
  },
  {
   "cell_type": "markdown",
   "metadata": {},
   "source": [
    "## Hasil yang diperoleh"
   ]
  },
  {
   "cell_type": "markdown",
   "metadata": {},
   "source": [
    "Berdasarkan kedua hasil tersebut, diperoleh **hasil yang sama** antara nilai prediksi yang dihasilkan oleh model KNN yang dibangun *from scratch* dengan model yang dimiliki scikit-learn."
   ]
  },
  {
   "cell_type": "code",
   "execution_count": 10,
   "metadata": {},
   "outputs": [
    {
     "name": "stdout",
     "output_type": "stream",
     "text": [
      "              precision    recall  f1-score   support\n",
      "\n",
      "           0       1.00      1.00      1.00       180\n",
      "           1       1.00      1.00      1.00       159\n",
      "           2       1.00      1.00      1.00       150\n",
      "           3       1.00      1.00      1.00       111\n",
      "\n",
      "    accuracy                           1.00       600\n",
      "   macro avg       1.00      1.00      1.00       600\n",
      "weighted avg       1.00      1.00      1.00       600\n",
      "\n"
     ]
    }
   ],
   "source": [
    "# Pengujian kualitas model dengan metrik\n",
    "print(classification_report(y_pred_scratch, y_pred_scikit))"
   ]
  },
  {
   "cell_type": "markdown",
   "metadata": {},
   "source": [
    "## Apakah sudah merupakan model yang terbaik?"
   ]
  },
  {
   "cell_type": "markdown",
   "metadata": {},
   "source": [
    "Belum tentu! proses kalkulasi untuk mendapatkan model dengan akurasi yang tinggi memerlukan pemilihan nilai k yang baik. Melalui eksperimen diatas, telah dilakukan percobaan pemilihan nilai k = 5 dan diperoleh nilai akurasi sebesar 51.33 %. Angka ini tentu saja masih dapat ditingkatkan dengan melakukan pemilihan nilai k yang dapat memaksimalkan nilai akurasi."
   ]
  },
  {
   "cell_type": "markdown",
   "metadata": {},
   "source": [
    "## Memperkenalkan *Cross-validation*"
   ]
  },
  {
   "cell_type": "markdown",
   "metadata": {},
   "source": [
    "Menemukan nilai terbaik untuk hyperparameter 'k' di *K-Nearest Neighbor* (KNN) melibatkan proses yang disebut *hyperparameter tuning*. Salah satu pendekatan yang umum adalah dengan menggunakan *cross-validation*.\n",
    "Berikut adalah detail prosedurnya\n",
    "1. Pemilihan Jumlah Subset (*Fold*)<br/> \n",
    "*Dataset* dibagi menjadi beberapa subset yang disebut \"fold.\" Misalnya, dalam *5-fold cross-validation*, *dataset* dibagi menjadi 5 bagian. Proses pelatihan dan pengujian akan dilakukan sebanyak 5 kali, di mana setiap *fold* digunakan sebagai subset pengujian satu kali, dan sisanya digunakan sebagai subset pelatihan.\n",
    "2. Pelatihan dan Pengujian Berulang<br/> \n",
    "Model pembelajaran mesin dilatih pada subset pelatihan dan diuji pada subset pengujian untuk setiap iterasi *cross-validation*. Proses ini dilakukan sebanyak jumlah *fold* yang telah ditentukan.\n",
    "3. Perhitungan Metrik Kinerja<br/> \n",
    "Metrik kinerja seperti akurasi, presisi, *recall*, atau *F1-score* dihitung untuk setiap iterasi *cross-validation*. Metrik ini memberikan gambaran tentang seberapa baik model berkinerja pada berbagai subset data."
   ]
  },
  {
   "cell_type": "markdown",
   "metadata": {},
   "source": [
    "Berikut adalah prosedur yang dilakukan untuk melakukan *cross-validation* dengan menggunakan *library* milik scikit-learn."
   ]
  },
  {
   "cell_type": "code",
   "execution_count": 14,
   "metadata": {},
   "outputs": [
    {
     "data": {
      "image/png": "[encoded data removed]",
      "text/plain": [
       "<Figure size 640x480 with 1 Axes>"
      ]
     },
     "metadata": {},
     "output_type": "display_data"
    },
    {
     "name": "stdout",
     "output_type": "stream",
     "text": [
      "Nilai k terbaik adalah : 254\n"
     ]
    }
   ],
   "source": [
    "# Impor library yang diperlukan\n",
    "from sklearn.model_selection import cross_val_score\n",
    "import matplotlib.pyplot as plt\n",
    "\n",
    "# Menemukan nilai 'k' terbaik dengan cross-validation\n",
    "k_values = list(range(1, 300))      # Iterasi dilakukan pada rentang k antara 1 - 300\n",
    "cv_scores = []\n",
    "\n",
    "for k in k_values:\n",
    "    knn = KNeighborsClassifier(n_neighbors=k)\n",
    "    scores = cross_val_score(knn, x_train, y_train, cv=5, scoring='accuracy')  # Digunakan 5-fold cross-validation\n",
    "    cv_scores.append(np.mean(scores))\n",
    "\n",
    "# Membuat ilustrasi perbandingan pemilihan nilai k dengan akurasi\n",
    "plt.plot(k_values, cv_scores)\n",
    "plt.xlabel('Jumlah Tetangga (k)')\n",
    "plt.ylabel('Tingkat Akurasi Cross-Validation')\n",
    "plt.title('Pemilihan Model KNN berdasar nilai k')\n",
    "plt.show()\n",
    "\n",
    "# Memilih nilai k yang memiliki nilai akurasi terbaik\n",
    "best_k = k_values[np.argmax(cv_scores)]\n",
    "print(f'Nilai k terbaik adalah : {best_k}')"
   ]
  },
  {
   "cell_type": "markdown",
   "metadata": {},
   "source": [
    "Setelah mendapatkan nilai k terbaik, mari kembali lakukan pengujian menggunakan Algoritma KNN yang telah dibangun sebelumnya"
   ]
  },
  {
   "cell_type": "code",
   "execution_count": 15,
   "metadata": {},
   "outputs": [],
   "source": [
    "# Gunakan model KNN yang sebelumnya dibangun\n",
    "knn_scratch = KNNAlgorithm(best_k)       # Gunakan nilai k yang terbaik\n",
    "\n",
    "# Lakukan fit model\n",
    "knn_scratch.fit(x_train, y_train)\n",
    "\n",
    "# Lakukan prediksi dengan data validation\n",
    "y_pred_scratch = knn_scratch.predict(x_test)"
   ]
  },
  {
   "cell_type": "code",
   "execution_count": 16,
   "metadata": {},
   "outputs": [
    {
     "name": "stdout",
     "output_type": "stream",
     "text": [
      "              precision    recall  f1-score   support\n",
      "\n",
      "           0       0.62      0.78      0.69       142\n",
      "           1       0.38      0.42      0.40       144\n",
      "           2       0.37      0.35      0.36       155\n",
      "           3       0.74      0.52      0.61       159\n",
      "\n",
      "    accuracy                           0.51       600\n",
      "   macro avg       0.52      0.52      0.51       600\n",
      "weighted avg       0.53      0.51      0.51       600\n",
      "\n",
      "Akurasi :  64.833 %\n"
     ]
    }
   ],
   "source": [
    "# Pengujian kualitas model dengan metrik\n",
    "print(classification_report(y_test, y_pred_scikit))\n",
    "print(\"Akurasi : \", 100 * np.round(accuracy_score(y_test, y_pred_scratch), 5), \"%\")"
   ]
  },
  {
   "cell_type": "markdown",
   "metadata": {},
   "source": [
    "Terlihat bahwa dengan melakukan cross-validation pada rentang nilai k dari 1 hingga 300, diperoleh nilai k terbaik adalah 254 dengan nilai akurasi 64.83 %. Angka ini meningkat 0.26 kali lebih baik dari akurasi sebelumnya!"
   ]
  },
  {
   "cell_type": "markdown",
   "metadata": {},
   "source": [
    "## Penyimpanan Model"
   ]
  },
  {
   "cell_type": "markdown",
   "metadata": {},
   "source": [
    "Agar model dapat digunakan kembali, maka model harus dapat disimpan dan di-*load*. Berikut adalah implementasi penyimpanan model yang dilakukan menggunakan *library* pickle."
   ]
  },
  {
   "cell_type": "code",
   "execution_count": 17,
   "metadata": {},
   "outputs": [],
   "source": []
  }
 ],
 "metadata": {
  "kernelspec": {
   "display_name": "Python 3",
   "language": "python",
   "name": "python3"
  },
  "language_info": {
   "codemirror_mode": {
    "name": "ipython",
    "version": 3
   },
   "file_extension": ".py",
   "mimetype": "text/x-python",
   "name": "python",
   "nbconvert_exporter": "python",
   "pygments_lexer": "ipython3",
   "version": "3.10.11"
  }
 },
 "nbformat": 4,
 "nbformat_minor": 2
}
